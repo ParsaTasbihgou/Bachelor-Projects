{
 "cells": [
  {
   "cell_type": "code",
   "execution_count": 4,
   "metadata": {},
   "outputs": [
    {
     "name": "stdout",
     "output_type": "stream",
     "text": [
      "Adjacency Matrix:\n",
      "[[0 1 1 0 0 0 0 0 1 1]\n",
      " [1 0 1 0 0 0 0 0 0 0]\n",
      " [1 1 0 0 0 0 0 0 0 0]\n",
      " [0 0 0 0 1 1 0 0 0 0]\n",
      " [0 0 0 1 0 1 0 0 0 0]\n",
      " [0 0 0 1 1 0 1 1 0 0]\n",
      " [0 0 0 0 0 1 0 1 0 0]\n",
      " [0 0 0 0 0 1 1 0 0 0]\n",
      " [1 0 0 0 0 0 0 0 0 1]\n",
      " [1 0 0 0 0 0 0 0 1 0]]\n",
      "Clusters: [0 3 3 1 1 2 2 2 0 0]\n"
     ]
    }
   ],
   "source": [
    "from sklearn.cluster import KMeans\n",
    "import numpy as np\n",
    "\n",
    "A = np.array([\n",
    "  [0, 1, 1, 0, 0, 0, 0, 0, 1, 1],\n",
    "  [1, 0, 1, 0, 0, 0, 0, 0, 0, 0],\n",
    "  [1, 1, 0, 0, 0, 0, 0, 0, 0, 0],\n",
    "  [0, 0, 0, 0, 1, 1, 0, 0, 0, 0],\n",
    "  [0, 0, 0, 1, 0, 1, 0, 0, 0, 0],\n",
    "  [0, 0, 0, 1, 1, 0, 1, 1, 0, 0],\n",
    "  [0, 0, 0, 0, 0, 1, 0, 1, 0, 0],\n",
    "  [0, 0, 0, 0, 0, 1, 1, 0, 0, 0],\n",
    "  [1, 0, 0, 0, 0, 0, 0, 0, 0, 1],\n",
    "  [1, 0, 0, 0, 0, 0, 0, 0, 1, 0]])\n",
    "\n",
    "# our adjacency matrix\n",
    "print(\"Adjacency Matrix:\")\n",
    "print(A)\n",
    "\n",
    "# Adjacency Matrix:\n",
    "# [[0. 1. 1. 0. 0. 1. 0. 0. 1. 1.]\n",
    "#  [1. 0. 1. 0. 0. 0. 0. 0. 0. 0.]\n",
    "#  [1. 1. 0. 0. 0. 0. 0. 0. 0. 0.]\n",
    "#  [0. 0. 0. 0. 1. 1. 0. 0. 0. 0.]\n",
    "#  [0. 0. 0. 1. 0. 1. 0. 0. 0. 0.]\n",
    "#  [1. 0. 0. 1. 1. 0. 1. 1. 0. 0.]\n",
    "#  [0. 0. 0. 0. 0. 1. 0. 1. 0. 0.]\n",
    "#  [0. 0. 0. 0. 0. 1. 1. 0. 0. 0.]\n",
    "#  [1. 0. 0. 0. 0. 0. 0. 0. 0. 1.]\n",
    "#  [1. 0. 0. 0. 0. 0. 0. 0. 1. 0.]]\n",
    "\n",
    "# diagonal matrix\n",
    "D = np.diag(A.sum(axis=1))\n",
    "\n",
    "# graph laplacian\n",
    "L = D-A\n",
    "\n",
    "# eigenvalues and eigenvectors\n",
    "vals, vecs = np.linalg.eig(L)\n",
    "\n",
    "# sort these based on the eigenvalues\n",
    "vecs = vecs[:,np.argsort(vals)]\n",
    "vals = vals[np.argsort(vals)]\n",
    "\n",
    "# kmeans on first three vectors with nonzero eigenvalues\n",
    "kmeans = KMeans(n_clusters=4)\n",
    "kmeans.fit(vecs[:,1:4])\n",
    "colors = kmeans.labels_\n",
    "\n",
    "print(\"Clusters:\", colors)\n",
    "\n",
    "# Clusters: [2 1 1 0 0 0 3 3 2 2]"
   ]
  }
 ],
 "metadata": {
  "interpreter": {
   "hash": "aee8b7b246df8f9039afb4144a1f6fd8d2ca17a180786b69acc140d282b71a49"
  },
  "kernelspec": {
   "display_name": "Python 3.9.10 64-bit",
   "language": "python",
   "name": "python3"
  },
  "language_info": {
   "codemirror_mode": {
    "name": "ipython",
    "version": 3
   },
   "file_extension": ".py",
   "mimetype": "text/x-python",
   "name": "python",
   "nbconvert_exporter": "python",
   "pygments_lexer": "ipython3",
   "version": "3.9.10"
  },
  "orig_nbformat": 4
 },
 "nbformat": 4,
 "nbformat_minor": 2
}
